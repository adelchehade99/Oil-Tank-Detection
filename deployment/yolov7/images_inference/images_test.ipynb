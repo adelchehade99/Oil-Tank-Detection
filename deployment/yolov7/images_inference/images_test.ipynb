{
 "cells": [
  {
   "cell_type": "code",
   "execution_count": null,
   "id": "815b32dc-9cd4-4b3f-93dc-a4aef7cc23d1",
   "metadata": {},
   "outputs": [],
   "source": [
    "import subprocess\n",
    "import os\n",
    "\n",
    "# Define the paths to the weight files and the source image\n",
    "weights_paths = {\n",
    "    'Yolov7': r\"<PATH_TO_YOLOV7_WEIGHTS>\",\n",
    "    'Yolov7-tiny': r\"<PATH_TO_YOLOV7_TINY_WEIGHTS>\",\n",
    "    'Yolov7x': r\"<PATH_TO_YOLOV7X_WEIGHTS>\"\n",
    "}\n",
    "source_image = r\"<PATH_TO_SOURCE_IMAGE_DIRECTORY>\"  # Your source image directory path\n",
    "\n",
    "# Directory where YOLOv7's detect.py script is located\n",
    "yolov7_directory = r\"<PATH_TO_YOLOV7_DIRECTORY>\"  # Your YOLOv7 directory\n",
    "\n",
    "# Output directory (ensure this path exists or create it)\n",
    "output_directory = r\"<PATH_TO_OUTPUT_DIRECTORY>\"  # Change to your desired output directory\n",
    "\n",
    "# Loop through each weight file and perform inference\n",
    "for variant, weight_path in weights_paths.items():\n",
    "    # Build the command for inference\n",
    "    command = f\"python \\\"{yolov7_directory}\\\\detect.py\\\" --weights \\\"{weight_path}\\\" --conf 0.60 --img-size 640 --source \\\"{source_image}\\\" --project \\\"{output_directory}\\\" --name {variant} --exist-ok\"\n",
    "    \n",
    "    # Execute the command\n",
    "    print(f\"Running inference with {variant} weights...\")\n",
    "    subprocess.run(command, shell=True, check=True)\n",
    "\n",
    "    # Output path clarification\n",
    "    print(f\"Inference completed with {variant} weights. Check the output in the specified project directory under the '{variant}' subdirectory.\")\n",
    "\n"
   ]
  }
 ],
 "metadata": {
  "kernelspec": {
   "display_name": "Python (yolov7env)",
   "language": "python",
   "name": "yolov7env"
  },
  "language_info": {
   "codemirror_mode": {
    "name": "ipython",
    "version": 3
   },
   "file_extension": ".py",
   "mimetype": "text/x-python",
   "name": "python",
   "nbconvert_exporter": "python",
   "pygments_lexer": "ipython3",
   "version": "3.8.18"
  }
 },
 "nbformat": 4,
 "nbformat_minor": 5
}
